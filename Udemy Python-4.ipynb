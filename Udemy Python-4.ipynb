{
  "nbformat": 4,
  "nbformat_minor": 0,
  "metadata": {
    "colab": {
      "provenance": [],
      "authorship_tag": "ABX9TyNOo9y6JROOAIaIGXzwwgNQ",
      "include_colab_link": true
    },
    "kernelspec": {
      "name": "python3",
      "display_name": "Python 3"
    },
    "language_info": {
      "name": "python"
    }
  },
  "cells": [
    {
      "cell_type": "markdown",
      "metadata": {
        "id": "view-in-github",
        "colab_type": "text"
      },
      "source": [
        "<a href=\"https://colab.research.google.com/github/DhirajBembade/Udemy-Python/blob/main/Udemy%20Python-4.ipynb\" target=\"_parent\"><img src=\"https://colab.research.google.com/assets/colab-badge.svg\" alt=\"Open In Colab\"/></a>"
      ]
    },
    {
      "cell_type": "markdown",
      "source": [
        "**https://ascii.co.uk/art**"
      ],
      "metadata": {
        "id": "P55t2ROEr1fS"
      }
    },
    {
      "cell_type": "code",
      "source": [
        "import random\n",
        "\n",
        "rock = '''\n",
        "    _______\n",
        "---'   ____)\n",
        "      (_____)\n",
        "      (_____)\n",
        "      (____)\n",
        "---.__(___)\n",
        "'''\n",
        "\n",
        "paper = '''\n",
        "    _______\n",
        "---'   ____)____\n",
        "          ______)\n",
        "          _______)\n",
        "         _______)\n",
        "---.__________)\n",
        "'''\n",
        "\n",
        "scissors = '''\n",
        "    _______\n",
        "---'   ____)____\n",
        "          ______)\n",
        "       __________)\n",
        "      (____)\n",
        "---.__(___)\n",
        "'''\n",
        "\n",
        "game_images = [rock, paper, scissors]\n",
        "\n",
        "user_choice = int(input(\"What do you choose? Type 0 for Rock, 1 for Paper or 2 for Scissors.\\n\"))\n",
        "print(game_images[user_choice])\n",
        "\n",
        "computer_choice = random.randint(0, 2)\n",
        "print(\"Computer chose:\")\n",
        "print(game_images[computer_choice])\n",
        "\n",
        "if user_choice >= 3 or user_choice < 0: \n",
        "  print(\"You typed an invalid number, you lose!\") \n",
        "elif user_choice == 0 and computer_choice == 2:\n",
        "  print(\"You win!\")\n",
        "elif computer_choice == 0 and user_choice == 2:\n",
        "  print(\"You lose\")\n",
        "elif computer_choice > user_choice:\n",
        "  print(\"You lose\")\n",
        "elif user_choice > computer_choice:\n",
        "  print(\"You win!\")\n",
        "elif computer_choice == user_choice:\n",
        "  print(\"It's a draw\")\n"
      ],
      "metadata": {
        "colab": {
          "base_uri": "https://localhost:8080/"
        },
        "id": "3FvLTKKLsIG_",
        "outputId": "be653002-5ed2-4a4a-9cb4-f130c58b2441"
      },
      "execution_count": 1,
      "outputs": [
        {
          "output_type": "stream",
          "name": "stdout",
          "text": [
            "What do you choose? Type 0 for Rock, 1 for Paper or 2 for Scissors.\n",
            "0\n",
            "\n",
            "    _______\n",
            "---'   ____)\n",
            "      (_____)\n",
            "      (_____)\n",
            "      (____)\n",
            "---.__(___)\n",
            "\n",
            "Computer chose:\n",
            "\n",
            "    _______\n",
            "---'   ____)\n",
            "      (_____)\n",
            "      (_____)\n",
            "      (____)\n",
            "---.__(___)\n",
            "\n",
            "It's a draw\n"
          ]
        }
      ]
    },
    {
      "cell_type": "markdown",
      "source": [
        "# **Random Module**"
      ],
      "metadata": {
        "id": "uvTxl5wNtsf4"
      }
    },
    {
      "cell_type": "markdown",
      "source": [
        "https://en.wikipedia.org/wiki/Mersenne_Twister"
      ],
      "metadata": {
        "id": "f4JvUPbtr4an"
      }
    },
    {
      "cell_type": "markdown",
      "source": [
        "https://www.askpython.com/python-modules/python-random-module-generate-random-numbers-sequences"
      ],
      "metadata": {
        "id": "iH74oZjZtESL"
      }
    },
    {
      "cell_type": "markdown",
      "source": [
        "You are going to write a virtual coin toss program. It will randomly tell the user \"Heads\" or \"Tails\".\n",
        "\n",
        "Important, the first letter should be capitalised and spelt exactly like in the example e.g. Heads, not heads.\n",
        "\n",
        "There are many ways of doing this. But to practice what we learnt in the last lesson, you should generate a random number, either 0 or 1. Then use that number to print out Heads or Tails.\n",
        "\n",
        "e.g. 1 means Heads 0 means Tails"
      ],
      "metadata": {
        "id": "4cScKqr6tzeK"
      }
    },
    {
      "cell_type": "markdown",
      "source": [
        "# **List**\n",
        "\n",
        "https://docs.python.org/3/tutorial/datastructures.html"
      ],
      "metadata": {
        "id": "aLFbkkWawNEL"
      }
    },
    {
      "cell_type": "markdown",
      "source": [
        "You are going to write a program that will select a random name from a list of names. The person selected will have to pay for everybody's food bill.\n",
        "\n",
        "Important: You are not allowed to use the choice() function.\n",
        "\n",
        "Line 8 splits the string names_string into individual names and puts them inside a List called names. For this to work, you must enter all the names as names followed by comma then space. e.g. name, name, name"
      ],
      "metadata": {
        "id": "GSznJMoawrTs"
      }
    },
    {
      "cell_type": "code",
      "source": [
        "import random\n",
        "\n",
        "# Split string method\n",
        "names_string = input(\"Give me everybody's names, separated by a comma. \")\n",
        "names = names_string.split(\", \")\n",
        "\n",
        "#Write your code below this line 👇\n",
        "\n",
        "#Get the total number of items in list.\n",
        "num_items = len(names)\n",
        "#Generate random numbers between 0 and the last index. \n",
        "random_choice = random.randint(0, num_items - 1)\n",
        "#Pick out random person from list of names using the random number.\n",
        "person_who_will_pay = names[random_choice]\n",
        "\n",
        "print(person_who_will_pay + \" is going to buy the meal today!\")\n"
      ],
      "metadata": {
        "colab": {
          "base_uri": "https://localhost:8080/"
        },
        "id": "kZnB5ejiuVlo",
        "outputId": "f5192b08-0ce5-4109-b3f8-b9e54b75d343"
      },
      "execution_count": 2,
      "outputs": [
        {
          "output_type": "stream",
          "name": "stdout",
          "text": [
            "Give me everybody's names, separated by a comma. ben ,jerry, raju\n",
            "raju is going to buy the meal today!\n"
          ]
        }
      ]
    },
    {
      "cell_type": "markdown",
      "source": [
        "Instructions\n",
        "You are going to write a program that will mark a spot with an X.\n",
        "\n",
        "In the starting code, you will find a variable called map.\n",
        "\n",
        "This map contains a nested list. When map is printed this is what the nested list looks like:\n",
        "\n",
        "[['⬜️', '⬜️', '⬜️'],['⬜️', '⬜️', '⬜️'],['⬜️', '⬜️', '⬜️']]\n",
        "\n",
        "This is a bit hard to work with. So on lines 6 and 23, we've used this line of code print(f\"{row1}\\n{row2}\\n{row3}\" to format the 3 lists to be printed as a 3 by 3 square, each on a new line. \n",
        "\n",
        "['⬜️', '⬜️', '⬜️']\n",
        "\n",
        "['⬜️', '⬜️', '⬜️']\n",
        "\n",
        "['⬜️', '⬜️', '⬜️']\n",
        "\n",
        "Now it looks a bit more like the coordinates of a real map:\n",
        "\n"
      ],
      "metadata": {
        "id": "3rUyBBA9yjso"
      }
    },
    {
      "cell_type": "code",
      "source": [
        "row1 = [\"⬜️\",\"️⬜️\",\"️⬜️\"]\n",
        "row2 = [\"⬜️\",\"⬜️\",\"️⬜️\"]\n",
        "row3 = [\"⬜️️\",\"⬜️️\",\"⬜️️\"]\n",
        "map = [row1, row2, row3]\n",
        "print(f\"{row1}\\n{row2}\\n{row3}\")\n",
        "\n",
        "position = input(\"Where do you want to put the treasure? \")\n",
        "\n",
        "horizontal = int(position[0])\n",
        "vertical = int(position[1])\n",
        "\n",
        "map[vertical - 1][horizontal - 1] = \"X\"\n",
        "\n",
        "print(f\"{row1}\\n{row2}\\n{row3}\")\n"
      ],
      "metadata": {
        "colab": {
          "base_uri": "https://localhost:8080/"
        },
        "id": "-7HZuTbgynnC",
        "outputId": "1ab3d872-b686-4695-d6bb-08250c65c858"
      },
      "execution_count": 5,
      "outputs": [
        {
          "output_type": "stream",
          "name": "stdout",
          "text": [
            "['⬜️', '️⬜️', '️⬜️']\n",
            "['⬜️', '⬜️', '️⬜️']\n",
            "['⬜️️', '⬜️️', '⬜️️']\n",
            "Where do you want to put the treasure? 23\n",
            "['⬜️', '️⬜️', '️⬜️']\n",
            "['⬜️', '⬜️', '️⬜️']\n",
            "['⬜️️', 'X', '⬜️️']\n"
          ]
        }
      ]
    },
    {
      "cell_type": "code",
      "source": [
        "# Given the code below:\n",
        "fruits = [\"Strawberries\", \"Nectarines\", \"Apples\", \"Grapes\", \"Peaches\", \"Cherries\", \"Pears\"]\n",
        "vegetables = [\"Spinach\", \"Kale\", \"Tomatoes\", \"Celery\", \"Potatoes\"]\n",
        " \n",
        "dirty_dozen = [fruits, vegetables]\n",
        " \n",
        "print(dirty_dozen)\n"
      ],
      "metadata": {
        "colab": {
          "base_uri": "https://localhost:8080/"
        },
        "id": "tv4GTbOy1AH2",
        "outputId": "f01fa3f3-89da-4505-8d7a-e25ebfec21bd"
      },
      "execution_count": 8,
      "outputs": [
        {
          "output_type": "stream",
          "name": "stdout",
          "text": [
            "[['Strawberries', 'Nectarines', 'Apples', 'Grapes', 'Peaches', 'Cherries', 'Pears'], ['Spinach', 'Kale', 'Tomatoes', 'Celery', 'Potatoes']]\n"
          ]
        }
      ]
    },
    {
      "cell_type": "code",
      "source": [
        "print(dirty_dozen[0])\n",
        "print(dirty_dozen[1])\n",
        "print(dirty_dozen[1][1])\n",
        "print(dirty_dozen[1][2])\n",
        "print(dirty_dozen[1][3])"
      ],
      "metadata": {
        "colab": {
          "base_uri": "https://localhost:8080/"
        },
        "id": "gGP63FEX1npp",
        "outputId": "b989f9f6-7634-4c11-f466-a3c7e015fd44"
      },
      "execution_count": 9,
      "outputs": [
        {
          "output_type": "stream",
          "name": "stdout",
          "text": [
            "['Strawberries', 'Nectarines', 'Apples', 'Grapes', 'Peaches', 'Cherries', 'Pears']\n",
            "['Spinach', 'Kale', 'Tomatoes', 'Celery', 'Potatoes']\n",
            "Kale\n",
            "Tomatoes\n",
            "Celery\n"
          ]
        }
      ]
    }
  ]
}