{
  "nbformat": 4,
  "nbformat_minor": 0,
  "metadata": {
    "colab": {
      "provenance": [],
      "authorship_tag": "ABX9TyPqfJLr5fGgzWu5Z5W8dpty",
      "include_colab_link": true
    },
    "kernelspec": {
      "name": "python3",
      "display_name": "Python 3"
    },
    "language_info": {
      "name": "python"
    }
  },
  "cells": [
    {
      "cell_type": "markdown",
      "metadata": {
        "id": "view-in-github",
        "colab_type": "text"
      },
      "source": [
        "<a href=\"https://colab.research.google.com/github/DhirajBembade/Udemy-Python/blob/main/Udemy%20%20Python-1.ipynb\" target=\"_parent\"><img src=\"https://colab.research.google.com/assets/colab-badge.svg\" alt=\"Open In Colab\"/></a>"
      ]
    },
    {
      "cell_type": "markdown",
      "source": [
        "# Exercise 1 - Printing\n",
        "\n",
        "\n",
        "After you have written your code, you should run your program and it should print the following:\n",
        "\n",
        "Day 1 - Python Print Function\n",
        "\n",
        "The function is declared like this:\n",
        "\n",
        "print('what to print')"
      ],
      "metadata": {
        "id": "JecgA9UHtvSG"
      }
    },
    {
      "cell_type": "code",
      "execution_count": 1,
      "metadata": {
        "colab": {
          "base_uri": "https://localhost:8080/"
        },
        "id": "QzLyPYPEtEuR",
        "outputId": "81865615-253f-4f59-af82-110e160afebc"
      },
      "outputs": [
        {
          "output_type": "stream",
          "name": "stdout",
          "text": [
            "Day 1 - Python Print Function\n",
            "The function is declared like this:\n",
            "print('what to print')\n"
          ]
        }
      ],
      "source": [
        "print(\"Day 1 - Python Print Function\")\n",
        "print(\"The function is declared like this:\")\n",
        "print(\"print('what to print')\")"
      ]
    },
    {
      "cell_type": "code",
      "source": [
        "print(\"Hello world!\")"
      ],
      "metadata": {
        "colab": {
          "base_uri": "https://localhost:8080/"
        },
        "id": "_maS2A0ZxeiL",
        "outputId": "8f0c5370-53a0-44eb-b893-e24b3b38a6ce"
      },
      "execution_count": 4,
      "outputs": [
        {
          "output_type": "stream",
          "name": "stdout",
          "text": [
            "Hello world!\n"
          ]
        }
      ]
    },
    {
      "cell_type": "code",
      "source": [
        "print(\"Hello world!\\nHello world!\")   #\\n - next line"
      ],
      "metadata": {
        "colab": {
          "base_uri": "https://localhost:8080/"
        },
        "id": "IjZV5YaAxney",
        "outputId": "8e396bd9-bd5f-4280-c11d-8b2b089470ee"
      },
      "execution_count": 5,
      "outputs": [
        {
          "output_type": "stream",
          "name": "stdout",
          "text": [
            "Hello world!\n",
            "Hello world!\n"
          ]
        }
      ]
    },
    {
      "cell_type": "code",
      "source": [
        "print(\"Hello\" + \"Dhiraj\")     # Combine/ string concatination\n",
        "# No space"
      ],
      "metadata": {
        "colab": {
          "base_uri": "https://localhost:8080/"
        },
        "id": "2E_WAB9Cydpy",
        "outputId": "3eae96b2-d1cc-49ed-fcc6-f1871b51bf3c"
      },
      "execution_count": 6,
      "outputs": [
        {
          "output_type": "stream",
          "name": "stdout",
          "text": [
            "HelloDhiraj\n"
          ]
        }
      ]
    },
    {
      "cell_type": "code",
      "source": [
        "print(\"Hello \" + \"Dhiraj\")  # Space after Hello word\n",
        "print(\"Hello\" + \" Dhiraj\")  # Space before Second word\n",
        "print(\"Hello\"+ \" \" +\"Dhiraj\") # \" \" within +"
      ],
      "metadata": {
        "colab": {
          "base_uri": "https://localhost:8080/"
        },
        "id": "eYq-mmu8y9xj",
        "outputId": "ae678fc7-d1d0-49e7-888b-54a9dccfb07e"
      },
      "execution_count": 9,
      "outputs": [
        {
          "output_type": "stream",
          "name": "stdout",
          "text": [
            "Hello Dhiraj\n",
            "Hello Dhiraj\n",
            "Hello Dhiraj\n"
          ]
        }
      ]
    },
    {
      "cell_type": "markdown",
      "source": [
        "# Exercise 2 - Debugging Practice\n",
        "\n",
        "When you run your program, it should print the following:\n",
        "\n",
        "**Fix the code below ⏬**\n",
        "\n",
        "Day 1 - String Manipulation\n",
        "\n",
        "String Concatenation is done with the \"+\" sign.\n",
        "\n",
        "e.g. print(\"Hello \" + \"world\")\n",
        "\n",
        "New lines can be created with a backslash and n."
      ],
      "metadata": {
        "id": "I2xcbK1GumbC"
      }
    },
    {
      "cell_type": "code",
      "source": [
        "#1. Missing double quotes before the word Day.\n",
        "print(\"Day 1 - String Manipulation\")\n",
        "\n",
        "#2. Outer double quotes changed to single quotes.\n",
        "print('String Concatenation is done with the \"+\" sign.')\n",
        "\n",
        "#3. Extra indentation removed\n",
        "print('e.g. print(\"Hello \" + \"world\")')\n",
        "\n",
        "#4. Extra ( in print function removed.\n",
        "print(\"New lines can be created with a backslash and n.\")"
      ],
      "metadata": {
        "colab": {
          "base_uri": "https://localhost:8080/"
        },
        "id": "jXKwUjNHu6cK",
        "outputId": "19890f97-ce4f-4176-d763-48e1eb5e933b"
      },
      "execution_count": 2,
      "outputs": [
        {
          "output_type": "stream",
          "name": "stdout",
          "text": [
            "Day 1 - String Manipulation\n",
            "String Concatenation is done with the \"+\" sign.\n",
            "e.g. print(\"Hello \" + \"world\")\n",
            "New lines can be created with a backslash and n.\n"
          ]
        }
      ]
    },
    {
      "cell_type": "markdown",
      "source": [
        "**Error Help- https://stackoverflow.com/**\n",
        "\n",
        "Download & install for your system supoortive python ver.\n",
        "\n",
        "**https://thonny.org/**"
      ],
      "metadata": {
        "id": "LZ_LF-5t3QtA"
      }
    },
    {
      "cell_type": "markdown",
      "source": [
        "# Exercise 3 - Input Function\n",
        "\n",
        "## Input() - Will get user input in console\n",
        "\n",
        "**input() function-**\n",
        "\n",
        "**input(\"A prompt for the user\")**"
      ],
      "metadata": {
        "id": "zPur8_d2vhF7"
      }
    },
    {
      "cell_type": "code",
      "source": [
        "# line shortcut <-----   win - ctrl+/   # going back - ctrl+z\n",
        "print(input(\"Any word: \"))   "
      ],
      "metadata": {
        "colab": {
          "base_uri": "https://localhost:8080/"
        },
        "id": "5tpHEL8z1iPU",
        "outputId": "dd944ec3-685f-4785-8365-a1f17c95e4ad"
      },
      "execution_count": 17,
      "outputs": [
        {
          "output_type": "stream",
          "name": "stdout",
          "text": [
            "Any word: Hello\n",
            "Hello\n"
          ]
        }
      ]
    },
    {
      "cell_type": "code",
      "source": [
        "print('Hello'+ \" \" +input(\"What is your name? \") + \"!\")"
      ],
      "metadata": {
        "colab": {
          "base_uri": "https://localhost:8080/"
        },
        "id": "NCcK45GV2Bs5",
        "outputId": "5b387343-ee1a-4e2c-b9c0-00540315158d"
      },
      "execution_count": 20,
      "outputs": [
        {
          "output_type": "stream",
          "name": "stdout",
          "text": [
            "What is your name? Dhiraj\n",
            "Hello Dhiraj!\n"
          ]
        }
      ]
    },
    {
      "cell_type": "code",
      "source": [
        "name=input(\"What is your name?\")\n",
        "length=len(name)\n",
        "print(length)"
      ],
      "metadata": {
        "colab": {
          "base_uri": "https://localhost:8080/"
        },
        "id": "MtD6s8g295Lk",
        "outputId": "b42a775f-9c8e-4116-8ff0-f49fd7c4b6d4"
      },
      "execution_count": 21,
      "outputs": [
        {
          "output_type": "stream",
          "name": "stdout",
          "text": [
            "What is your name?Dhiraj\n",
            "6\n"
          ]
        }
      ]
    },
    {
      "cell_type": "code",
      "source": [
        "#This code prints the number of characters in a user's name.\n",
        "print( len( input(\"What is your name? \") ) )"
      ],
      "metadata": {
        "colab": {
          "base_uri": "https://localhost:8080/"
        },
        "id": "sAomOWMDv7NV",
        "outputId": "28352f12-1b46-4c0f-816a-261f71a16468"
      },
      "execution_count": 3,
      "outputs": [
        {
          "output_type": "stream",
          "name": "stdout",
          "text": [
            "What is your name? Dhiraj\n",
            "6\n"
          ]
        }
      ]
    },
    {
      "cell_type": "markdown",
      "source": [
        "# Exercise 4 - Variables\n",
        "\n",
        "Write a program that switches the values stored in the variables a and b."
      ],
      "metadata": {
        "id": "RbGIokTN-3Nj"
      }
    },
    {
      "cell_type": "code",
      "source": [
        "a=input(\"a:\")\n",
        "b=input(\"b:\")\n",
        "c = a\n",
        "a = b\n",
        "b = c\n",
        "print(\"a: \" + a)\n",
        "print(\"b: \" + b)\n"
      ],
      "metadata": {
        "colab": {
          "base_uri": "https://localhost:8080/"
        },
        "id": "VRuqVBFbxGg1",
        "outputId": "8e429a34-bf21-465c-e9ce-25939afe95b3"
      },
      "execution_count": 23,
      "outputs": [
        {
          "output_type": "stream",
          "name": "stdout",
          "text": [
            "a:3\n",
            "b:5\n",
            "a: 5\n",
            "b: 3\n"
          ]
        }
      ]
    },
    {
      "cell_type": "markdown",
      "source": [
        "# **Day 1 : Project: Band Name Generator**\n",
        "\n",
        "https://replit.com/@DhirajBembade"
      ],
      "metadata": {
        "id": "M3AE8TbHKssw"
      }
    },
    {
      "cell_type": "code",
      "source": [
        "#1. Create a greeting for your program.\n",
        "print(\"Welcome to the Band-name-generator !\")\n",
        "#2. Ask the user for the city that they grew up in.\n",
        "city = input(\"What is the name of the city you grew up in ?\\n\")\n",
        "#3. Ask the user for the name of a pet.\n",
        "pet = input(\"What is the name of a pet ?\\n\")\n",
        "#4. Combine the name of their city and pet and show them their band name.\n",
        "print(\"Your band name could be: \" + city +\" \"+pet)\n",
        "#5. Make sure the input cursor shows on a new line:"
      ],
      "metadata": {
        "colab": {
          "base_uri": "https://localhost:8080/"
        },
        "id": "M1Amy-JhLRnf",
        "outputId": "e3c5f924-ded4-49eb-a6d1-b2c25ce7b33d"
      },
      "execution_count": 24,
      "outputs": [
        {
          "output_type": "stream",
          "name": "stdout",
          "text": [
            "Welcome to the Band-name-generator !\n",
            "What is the name of the city you grew up in ?\n",
            "Mumbai\n",
            "What is the name of a pet ?\n",
            "Rex\n",
            "Your band name could be: Mumbai Rex\n"
          ]
        }
      ]
    }
  ]
}